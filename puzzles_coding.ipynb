{
 "cells": [
  {
   "cell_type": "markdown",
   "metadata": {},
   "source": [
    "# Puzzles and Coding"
   ]
  },
  {
   "cell_type": "markdown",
   "metadata": {},
   "source": [
    "#01 Imagine there are N ants in N different corners of an equilateral polygon, and each ant randomly picks a direction and starts traversing the edge of the polygon. What’s the probability that none of the ants collide? (Provided condition: N>2)"
   ]
  },
  {
   "cell_type": "markdown",
   "metadata": {},
   "source": [
    "There are only two possibilities in which collision can be occurred.<br>\n",
    "- All ants move in counterclockwise direction.<br>\n",
    "- All ants move in anti-counterclockwise direction.<br>\n",
    "\n",
    "Since every ant has two choices (pick either of two edges going through the corner on which ant is initially sitting). So for N ants there are total 2N possibilities.<br>\n",
    "\n",
    "Probability that none of the ants collide = ( 2N  - 2)/ 2N <br>\n",
    "​           = ( 2N-1   - 1)/ 2N-1<br>\n",
    "\n"
   ]
  },
  {
   "cell_type": "code",
   "execution_count": 1,
   "metadata": {},
   "outputs": [
    {
     "name": "stdout",
     "output_type": "stream",
     "text": [
      "Probability that none of 3 ants collide: 0.75\n"
     ]
    }
   ],
   "source": [
    "import math\n",
    "\n",
    "# Non Collide Probability for N ANTS\n",
    "# N Number of Ants & N > 2\n",
    "\n",
    "N = 3\n",
    "# P Probability\n",
    "P = (math.pow(2,N-1)-1)/math.pow(2,N-1)\n",
    "print('Probability that none of', N, 'ants collide:', P)"
   ]
  },
  {
   "cell_type": "markdown",
   "metadata": {},
   "source": [
    "#02 There are n stairs; a person standing at the bottom wants to reach the top. The person can take any number k steps. How many distinct ways can the person reach the top of the staircase?"
   ]
  },
  {
   "cell_type": "markdown",
   "metadata": {},
   "source": [
    "4 N STAIRS<br>\n",
    "\n",
    "In case if you can take 2 steps then total ways to reach the 3’rd stair are 3<br>\n",
    "1 step  + 1 step  + 1 step<br>\n",
    "1 step  + 2 steps<br>\n",
    "2 steps + 1 step<br>\n",
    "\n",
    "In case if you can take 3 steps then total ways to reach the 4’th stair are 7<br>\n",
    "1 step  + 1 step  + 1 step  + 1 steps<br>\n",
    "1 step  + 1 step  + 2 steps<br>\n",
    "1 step  + 2 steps + 1 step<br>\n",
    "1 step  + 3 steps<br>\n",
    "2 steps + 1 step  + 1 step<br>\n",
    "2 steps + 2 steps<br>\n",
    "3 steps + 1 step<br>\n",
    "\n",
    "In case if you can take 4 steps then total ways to reach the 4’th stair are 8<br>\n",
    "1 step  + 1 step  + 1 step  + 1 steps<br>\n",
    "1 step  + 1 step  + 2 steps<br>\n",
    "1 step  + 2 steps + 1 step<br>\n",
    "1 step  + 3 steps<br>\n",
    "2 steps + 1 step  + 1 step<br>\n",
    "2 steps + 2 steps<br>\n",
    "3 steps + 1 step<br>\n",
    "4 steps<br>\n",
    "\n",
    "\n",
    "countWays(N, K) = countWays(N-1, K) + countWays(N-2, K) + ... countWays (N-K, K)<br>"
   ]
  },
  {
   "cell_type": "code",
   "execution_count": 4,
   "metadata": {},
   "outputs": [],
   "source": [
    "# count distinct ways\n",
    "def distCountWays(n, k):\n",
    "    # Returns number of ways to reach N'th stair \n",
    "    \n",
    "    if n <= 1:\n",
    "        return n\n",
    "    res = 0\n",
    "    i = 1\n",
    "    while i<= k and i<= n:\n",
    "        res = res + distCountWays(n-i, k)\n",
    "        \n",
    "    i = i + 1\n",
    "    return res\n",
    "\n"
   ]
  },
  {
   "cell_type": "markdown",
   "metadata": {},
   "source": [
    "#03 You have X wine bottles, one of which is poisoned. You want to determine which bottle is poisoned by feeding the wine to the rats. The poisoned wine takes Z hour to work. How many rats are necessary to find the poisoned bottle in Y hour? (Provided condition: Y is multiple of Z.)"
   ]
  },
  {
   "cell_type": "code",
   "execution_count": 6,
   "metadata": {},
   "outputs": [
    {
     "name": "stdout",
     "output_type": "stream",
     "text": [
      "Number of rats required to find the poisoned bottle: 7\n"
     ]
    }
   ],
   "source": [
    "# log base ( y/z + 1 )  (X)\n",
    "\n",
    "#Where X = Number of wine bottles\n",
    "# Z = Hours for poison to effect\n",
    "# Y = Hours to find a poisoned bottle\n",
    "\n",
    "import math\n",
    "#X wine bottles\n",
    "X=1000\n",
    "#Z hour time after which the poison works\n",
    "Z=24\n",
    "#Y hour time to find the poisoned bottle\n",
    "Y=48\n",
    "T = Y/Z\n",
    "print ('Number of rats required to find the poisoned bottle: ', end='')\n",
    "print (math.ceil(math.log(X,T+1)))\n",
    "\n",
    "#Now if X=1000\n",
    "#Z=1\n",
    "#Y=1"
   ]
  },
  {
   "cell_type": "code",
   "execution_count": null,
   "metadata": {},
   "outputs": [],
   "source": []
  },
  {
   "cell_type": "markdown",
   "metadata": {},
   "source": [
    "#04 N persons are standing in a circle. They are labeled from 1 to N in clockwise order. Every one of them is holding a gun and can shoot a person on his left. Starting from person 1, they starts shooting in order e.g for N=100, person 1 shoots person 2, then person 3 shoots person 4, then person 5 shoots person 6……..then person 99 shoots person 100, then person 1 shoots person 3, then person 5 shoots person 7……and it continues till all are dead except one. What’s the index of that last person?"
   ]
  },
  {
   "cell_type": "code",
   "execution_count": 8,
   "metadata": {},
   "outputs": [
    {
     "name": "stdout",
     "output_type": "stream",
     "text": [
      "Surviving Person: 73\n"
     ]
    }
   ],
   "source": [
    "# If N is the number of people in circle and if K is the nearest power of 2 which is less than N, then\n",
    "# Last Person = 2 * (N - K) + 1\n",
    "\n",
    "#Import math Library\n",
    "import math\n",
    "#N People\n",
    "\n",
    "N = 100\n",
    "#Largest Power of 2 <= Total Number\n",
    "M = math.log(N,2);\n",
    "\n",
    "#If Largest Power of 2 = Total Number\n",
    "if(M.is_integer()):\n",
    "    print('1');\n",
    "#Else Largest Power of 2 < Total Number\n",
    "else:\n",
    "    P = math.floor(M);\n",
    "    K = pow(2,P)\n",
    "    \n",
    "    Sol = 2 * (N - K) + 1\n",
    "    print('Surviving Person:', Sol) \n",
    "    \n",
    "# If N = 5 then output:\n",
    "# Surviving Person: 3"
   ]
  },
  {
   "cell_type": "markdown",
   "metadata": {},
   "source": [
    "#05 There are X students in the class. What is the possibility that at least 2 students share the same day of birth? (Provided condition: No student is born in a leap year.)"
   ]
  },
  {
   "cell_type": "code",
   "execution_count": 9,
   "metadata": {},
   "outputs": [
    {
     "name": "stdout",
     "output_type": "stream",
     "text": [
      "Probability of any two share same birthday: 0.8143832388747152\n"
     ]
    }
   ],
   "source": [
    "# 1 - ( 365! / ( 365 - N)! * 365^N )\n",
    "# Where N = Number of Students in a Class\n",
    "# \n",
    "#\n",
    "# N Number of Students in Class\n",
    "\n",
    "# N Number of Students in Class\n",
    "\n",
    "N = 35\n",
    "mul1 = 1\n",
    "\n",
    "for x in range(365-N+1,366):\n",
    "    mul1 = mul1 * x\n",
    "    \n",
    "base = 365\n",
    "exponent = N\n",
    "mul2 = pow(base, exponent)\n",
    "print('Probability of any two share same birthday:',1-(mul1/mul2))\n"
   ]
  },
  {
   "cell_type": "markdown",
   "metadata": {},
   "source": [
    "Make a fair (unbiased) coin from an unfair (biased) coin."
   ]
  },
  {
   "cell_type": "markdown",
   "metadata": {},
   "source": [
    "John von Neumann described the procedure like this:<br>\n",
    "1. Toss the coin twice.<br>\n",
    "2. If the outcome of both coins is the same (HH or TT), start over and disregard the current toss.<br>\n",
    "3. If the outcome of both coins is different (HT or TH), take the first coin as the result and forget the second.<br>"
   ]
  },
  {
   "cell_type": "code",
   "execution_count": 10,
   "metadata": {},
   "outputs": [],
   "source": [
    "from random import randint\n",
    "# Biased function that returns Heads with 60% probability and\n",
    "# Tails with 40% probability\n",
    "\n",
    "def toss_biased():\n",
    "    # generate random number between 1-100, both inclusive\n",
    "    r = randint(1, 100)\n",
    "    # return T if we got number between [1-40], else return T\n",
    "    return T if (r < 41) else H\n"
   ]
  },
  {
   "cell_type": "code",
   "execution_count": 13,
   "metadata": {},
   "outputs": [
    {
     "name": "stdout",
     "output_type": "stream",
     "text": [
      "HEADS% ~ 49.77 %\n",
      "TAILS% ~ 50.23 %\n"
     ]
    }
   ],
   "source": [
    "def toss_unbiased():\n",
    "    # difference = 0 in case of HH or TT toss again\n",
    "    # difference > 0 in case of HT return  H\n",
    "    # difference < 0 in case of TH return T\n",
    "    difference = toss_biased() - toss_biased()\n",
    "    if difference > 0:\n",
    "        return H\n",
    "    if difference < 0:\n",
    "        return T\n",
    "    \n",
    "    return toss_unbiased()\n",
    "\n",
    "\n",
    "# Generate Fair Results from a Biased Coin\n",
    "if __name__ == '__main__':\n",
    "    # Head\n",
    "    H = 1\n",
    "    # Tail\n",
    "    T = 0\n",
    "    head_count = tail_count = 0\n",
    "    for i in range(10000):\n",
    "        val = toss_unbiased()\n",
    "        if val == 1:\n",
    "            head_count += 1\n",
    "        else:\n",
    "            tail_count += 1\n",
    "            \n",
    "    print('HEADS% ~', head_count / 100, '%')     # ~50%\n",
    "    print('TAILS% ~', tail_count / 100, '%')     # ~50%"
   ]
  },
  {
   "cell_type": "markdown",
   "metadata": {},
   "source": [
    "#_06 You have an N coins laying flat on a table, each with a head side and a tail side. M of them are heads up, rest are tails up. You can’t feel, see or in any other way find out which M are heads up. Your goal: split the coins into two piles so there are the same numbers of heads-up coins in each pile."
   ]
  },
  {
   "cell_type": "code",
   "execution_count": 14,
   "metadata": {},
   "outputs": [],
   "source": [
    "from random import randint\n",
    "import array as arr\n",
    "\n",
    "# Random function that returns N Coins with M Heads\n",
    "def random_coins():\n",
    "    # generate random number either 1 or 0\n",
    "    r = randint(0, 1)\n",
    "    # return Head if we got number 1, else return T\n",
    "    return H if (r == 1) else T\n"
   ]
  },
  {
   "cell_type": "code",
   "execution_count": 15,
   "metadata": {},
   "outputs": [
    {
     "name": "stdout",
     "output_type": "stream",
     "text": [
      "Randomly Generated Coins\n",
      "[0, 0, 0, 1, 1, 1, 1, 1, 0, 0, 0, 1, 1, 0, 0, 1, 1, 1, 0, 1, 0, 1, 1, 0, 0, 0, 0, 1, 1, 0, 0, 0, 0, 1, 1, 0, 0, 0, 1, 1, 1, 1, 1, 1, 1, 1, 0, 0, 1, 0, 1, 1, 1, 0, 1, 0, 1, 1, 0, 1, 0, 1, 0, 0, 1, 0, 0, 0, 0, 0, 1, 1, 0, 1, 0, 0, 0, 0, 0, 0, 1, 1, 0, 1, 1, 1, 0, 0, 1, 0, 1, 1, 1, 0, 1, 1, 1, 1, 1, 0]\n",
      "In single pile of 100 coins: 52 are Heads and  48  are Tails\n",
      "***Solution for splitting the coins into two piles***\n",
      "Size of 1st piles coins: 52\n",
      "1st piles coins: [0, 0, 0, 1, 1, 1, 1, 1, 0, 0, 0, 1, 1, 0, 0, 1, 1, 1, 0, 1, 0, 1, 1, 0, 0, 0, 0, 1, 1, 0, 0, 0, 0, 1, 1, 0, 0, 0, 1, 1, 1, 1, 1, 1, 1, 1, 0, 0, 1, 0, 1, 1]\n",
      "Size of 2nd piles coins: 48\n",
      "2nd piles coins: [1, 0, 1, 0, 1, 1, 0, 1, 0, 1, 0, 0, 1, 0, 0, 0, 0, 0, 1, 1, 0, 1, 0, 0, 0, 0, 0, 0, 1, 1, 0, 1, 1, 1, 0, 0, 1, 0, 1, 1, 1, 0, 1, 1, 1, 1, 1, 0]\n",
      "flip all coins of 1st pile\n",
      "1st piles coins after a flip: [1, 1, 1, 0, 0, 0, 0, 0, 1, 1, 1, 0, 0, 1, 1, 0, 0, 0, 1, 0, 1, 0, 0, 1, 1, 1, 1, 0, 0, 1, 1, 1, 1, 0, 0, 1, 1, 1, 0, 0, 0, 0, 0, 0, 0, 0, 1, 1, 0, 1, 0, 0]\n",
      "Number of coins with head in 1st pile: 24\n",
      "Number of coins with head in 2nd pile: 24\n"
     ]
    }
   ],
   "source": [
    "# Generate Two Piles with Same Number of Heads-up Coins\n",
    "if __name__ == '__main__':\n",
    "    # Head\n",
    "    H = 1\n",
    "    # Tail\n",
    "    T = 0\n",
    "    head_count = tail_count = 0\n",
    "    #Number of coins, let's take 100\n",
    "    N = 100\n",
    "    coins = []\n",
    "    for i in range(N):\n",
    "        val = random_coins()\n",
    "        if val == 1:\n",
    "            head_count += 1\n",
    "            coins.append(1)\n",
    "        else:\n",
    "            tail_count += 1\n",
    "            coins.append(0)\n",
    "            \n",
    "    print('Randomly Generated Coins')\n",
    "    print(coins)\n",
    "    \n",
    "    print('In single pile of', N, 'coins:', head_count, 'are Heads and ', tail_count, ' are Tails')\n",
    "    print('***Solution for splitting the coins into two piles***')\n",
    "    \n",
    "    pile1_coins = coins[0:head_count]\n",
    "    print('Size of 1st piles coins:', len(pile1_coins))\n",
    "    \n",
    "    print('1st piles coins:', pile1_coins)\n",
    "    pile2_coins = coins[len(pile1_coins):N]\n",
    "    \n",
    "    print('Size of 2nd piles coins:', len(pile2_coins))\n",
    "    print('2nd piles coins:', pile2_coins)\n",
    "    \n",
    "    pile1_coins_head = pile2_coins_head = 0\n",
    "    print('flip all coins of 1st pile')\n",
    "    \n",
    "    for g in range(len(pile1_coins)):\n",
    "        if pile1_coins[g] == 1:\n",
    "            pile1_coins[g] = 0\n",
    "        else:\n",
    "            pile1_coins[g] = 1\n",
    "            \n",
    "    print('1st piles coins after a flip:', pile1_coins)\n",
    "    \n",
    "    for j in range(len(pile1_coins)):\n",
    "        if pile1_coins[j] == 1:\n",
    "            pile1_coins_head += 1\n",
    "    for k in range(len(pile2_coins)):\n",
    "        if pile2_coins[k] == 1:\n",
    "            pile2_coins_head += 1\n",
    "            \n",
    "    print('Number of coins with head in 1st pile:',  pile1_coins_head)\n",
    "    print('Number of coins with head in 2nd pile:',  pile2_coins_head)\n",
    "    "
   ]
  },
  {
   "cell_type": "markdown",
   "metadata": {},
   "source": [
    "#_07 You have N bags full of coins. In each bag are infinite coins. But one bag is full of forgeries, and you can’t remember which one. But you do know that genuine coins weigh 1 gram, but forgeries weigh 1.1 grams. You have to identify that bag in minimum readings. You are provided with a digital weighing machine."
   ]
  },
  {
   "cell_type": "markdown",
   "metadata": {},
   "source": [
    "There is only 1 bag with forgeries, so take 1 coin from the first bag, 2 coins from the second bag . . . N coins from the Nth bag and simply weigh the picked coins together.<br>\n",
    "\n",
    "If there were no forgeries, you know that the total weight should be (1+2+...+n) = n*(n+1)/2 grams.\n",
    "The number difference between them will give the bag number of fake coins.<br>"
   ]
  },
  {
   "cell_type": "code",
   "execution_count": 17,
   "metadata": {},
   "outputs": [
    {
     "name": "stdout",
     "output_type": "stream",
     "text": [
      "Total number of bags: 200\n",
      "random bag number where to put fake coins: 121\n",
      "Coin Bags: [1, 1, 1, 1, 1, 1, 1, 1, 1, 1, 1, 1, 1, 1, 1, 1, 1, 1, 1, 1, 1, 1, 1, 1, 1, 1, 1, 1, 1, 1, 1, 1, 1, 1, 1, 1, 1, 1, 1, 1, 1, 1, 1, 1, 1, 1, 1, 1, 1, 1, 1, 1, 1, 1, 1, 1, 1, 1, 1, 1, 1, 1, 1, 1, 1, 1, 1, 1, 1, 1, 1, 1, 1, 1, 1, 1, 1, 1, 1, 1, 1, 1, 1, 1, 1, 1, 1, 1, 1, 1, 1, 1, 1, 1, 1, 1, 1, 1, 1, 1, 1, 1, 1, 1, 1, 1, 1, 1, 1, 1, 1, 1, 1, 1, 1, 1, 1, 1, 1, 1, 1.1, 1, 1, 1, 1, 1, 1, 1, 1, 1, 1, 1, 1, 1, 1, 1, 1, 1, 1, 1, 1, 1, 1, 1, 1, 1, 1, 1, 1, 1, 1, 1, 1, 1, 1, 1, 1, 1, 1, 1, 1, 1, 1, 1, 1, 1, 1, 1, 1, 1, 1, 1, 1, 1, 1, 1, 1, 1, 1, 1, 1, 1, 1, 1, 1, 1, 1, 1, 1, 1, 1, 1, 1, 1, 1, 1, 1, 1, 1, 1]\n",
      "Weight with fake coins: 20112.1\n",
      "Bag No. with fake coins: 121\n"
     ]
    }
   ],
   "source": [
    "# Finding Bag No filled with fake coins\n",
    "from random import randint\n",
    "\n",
    "# N Number of bags\n",
    "N = 200\n",
    "print('Total number of bags:', N)\n",
    "\n",
    "# r Any random number between 1 & N\n",
    "r = randint(1, N)\n",
    "print('random bag number where to put fake coins:', r)\n",
    "coinArr = []\n",
    "sumCoin = 0.0\n",
    "\n",
    "#Putting 1 g coins in each bag except r in which putting 1.1g fake coins\n",
    "for x in range(1,N+1):\n",
    "    if x == r :\n",
    "            coinArr.append(1.1)\n",
    "    else:\n",
    "            coinArr.append(1)\n",
    "print('Coin Bags:', coinArr)\n",
    "\n",
    "\n",
    "#Finding fake coin bags\n",
    "\n",
    "#Taking k numbers of coin from k bags & weighing them\n",
    "\n",
    "for k in range(len(coinArr)):\n",
    "    sumCoin += (coinArr[k]) * (k+1)\n",
    "    \n",
    "print('Weight with fake coins:', sumCoin)\n",
    "\n",
    "#Wanted weight if no coins are fake  \n",
    "\n",
    "actualSumCoin = N * (N+1) / 2;\n",
    "\n",
    "#Difference between sumCoin and actualSumCoin\n",
    "diff = sumCoin - actualSumCoin\n",
    "\n",
    "#round function for correcting floating point difference in Python\n",
    "fakeBagNo = round(diff,4)*10\n",
    "print('Bag No. with fake coins:', round(fakeBagNo))"
   ]
  },
  {
   "cell_type": "markdown",
   "metadata": {},
   "source": [
    "#_08 You are about to get on a plane to Mumbai, you want to know whether you have to bring an umbrella or not. You call N of your random friends and ask each one of them if it’s raining. The probability that your any friend is telling the truth is 2/3 and the probability that (s)he is playing a prank on you by lying is 1/3. If all N of them tell that it is raining, then what is the probability that it is actually raining in Mumbai."
   ]
  },
  {
   "cell_type": "code",
   "execution_count": 19,
   "metadata": {},
   "outputs": [
    {
     "name": "stdout",
     "output_type": "stream",
     "text": [
      "Possibility of Raining 96.2962962962963 %\n",
      "Possibility of Raining 75.0 %\n"
     ]
    }
   ],
   "source": [
    "#You only require one of the friends to be telling the truth.\n",
    "#The probability that at least one of them is telling the truth will be:\n",
    "#1 - (Probability that all of them Lied)\n",
    "#The probability that one of them lied is **1/N**\n",
    "#So, the probability that all N lied is  1/N * 1/N * 1/N … * 1/N (N times multiplication of 1/N) = #1/(N^N) \n",
    " \n",
    "#So, now the probability that at least one of them told the truth is or there is a raining is: 1 – (1/(N^N))\n",
    "\n",
    "\n",
    "# Probability of Raining\n",
    "import math\n",
    "# N Number of friends\n",
    "N = 3\n",
    "# P Probability =1 - (Probability that all of them Lied)\n",
    "P = 1 - (1/pow(N,N))\n",
    "print('Possibility of Raining', P*100,'%')\n",
    "\n",
    "N = 2\n",
    "# P Probability =1 - (Probability that all of them Lied)\n",
    "P = 1 - (1/pow(N,N))\n",
    "print('Possibility of Raining', P*100,'%')"
   ]
  },
  {
   "cell_type": "markdown",
   "metadata": {},
   "source": [
    "#_09 The director of a prison offers N death row prisoners, who are numbered from 1 to N, a last chance. A room contains a cupboard with N boxes. The director randomly puts one prisoner's number in each closed boxes. The prisoners enter the room, one after another. Each prisoner may open and look into N/2 boxes in any order. The boxes are closed again afterwards. If, during this search, every prisoner finds his number in one of the boxes, all prisoners are pardoned. If just one prisoner does not find his number, all prisoners die. Before the first prisoner enters the room, the prisoners may discuss strategy — but may not communicate once the first prisoner enters to look in the boxes. What is the prisoners' best strategy?"
   ]
  },
  {
   "cell_type": "markdown",
   "metadata": {},
   "source": [
    "There is a strategy that provides a better survival probability than randomly opening the boxes.\n",
    "To describe the strategy, not only the prisoners, but also the boxes are also numbered from 1 to N. The strategy is now as follows:<br>\n",
    "1.) Each prisoner first opens the box with his own number.<br>\n",
    "2.) If that box contains his number then he is successful.<br>\n",
    "3.) Otherwise, the box contains the number of another prisoner and he next opens the box with this number.<br>\n",
    "4.) The prisoner repeats steps 2 and 3 until he finds his own number or has opened N/2 drawers.<br>"
   ]
  },
  {
   "cell_type": "code",
   "execution_count": 20,
   "metadata": {},
   "outputs": [],
   "source": [
    "from random import randint\n",
    "# Flling N Boxes randomly\n",
    "\n",
    "def fillBoxes(N, NBox):\n",
    "    r = randint(1, N)\n",
    "    if r in NBox:\n",
    "        fillBoxes(N, NBox)\n",
    "    else:\n",
    "        NBox.append(r)\n",
    "        if(len(NBox) <N):\n",
    "            fillBoxes(N, NBox)\n",
    "    return NBox"
   ]
  },
  {
   "cell_type": "code",
   "execution_count": 24,
   "metadata": {},
   "outputs": [],
   "source": [
    "# Finding Own Number\n",
    "def findingNumber(chosenOne, NBox, checkBoxNo, count, N):\n",
    "    if count >= N/2:\n",
    "        if(NBox[checkBoxNo-1] == chosenOne):\n",
    "            print('Number is found')\n",
    "        else:\n",
    "            print('Number is not found')\n",
    "        return\n",
    "    elif(NBox[checkBoxNo-1] == chosenOne):\n",
    "        print('Number is found')\n",
    "        return 1\n",
    "    else:\n",
    "        print('At Step:', count+1,': ','checked box number:', NBox[checkBoxNo-1])\n",
    "        findingNumber(chosenOne, NBox, NBox[checkBoxNo-1], count+1, N)\n",
    "            "
   ]
  },
  {
   "cell_type": "code",
   "execution_count": 25,
   "metadata": {},
   "outputs": [
    {
     "name": "stdout",
     "output_type": "stream",
     "text": [
      "Total number of Prisoners 120\n",
      "Arrangement of Boxes [26, 94, 45, 90, 73, 106, 10, 100, 15, 52, 6, 7, 101, 104, 47, 59, 16, 12, 42, 14, 11, 54, 66, 25, 93, 1, 87, 29, 116, 58, 109, 68, 120, 71, 65, 111, 114, 88, 91, 37, 82, 19, 76, 86, 85, 118, 117, 34, 38, 36, 103, 80, 31, 79, 43, 62, 56, 92, 83, 98, 113, 35, 20, 4, 75, 89, 61, 48, 110, 64, 107, 2, 21, 22, 50, 23, 55, 46, 57, 5, 81, 84, 41, 53, 13, 102, 60, 33, 70, 3, 119, 78, 72, 32, 99, 24, 17, 108, 63, 67, 40, 69, 44, 28, 39, 74, 112, 95, 18, 30, 8, 49, 96, 97, 27, 51, 9, 77, 115, 105]\n",
      "Prison No. 43 is sent\n",
      "At step: 1: checked box number: 43\n",
      "At Step: 2 :  checked box number: 76\n",
      "At Step: 3 :  checked box number: 23\n",
      "At Step: 4 :  checked box number: 66\n",
      "At Step: 5 :  checked box number: 89\n",
      "At Step: 6 :  checked box number: 70\n",
      "At Step: 7 :  checked box number: 64\n",
      "At Step: 8 :  checked box number: 4\n",
      "At Step: 9 :  checked box number: 90\n",
      "At Step: 10 :  checked box number: 3\n",
      "At Step: 11 :  checked box number: 45\n",
      "At Step: 12 :  checked box number: 85\n",
      "At Step: 13 :  checked box number: 13\n",
      "At Step: 14 :  checked box number: 101\n",
      "At Step: 15 :  checked box number: 40\n",
      "At Step: 16 :  checked box number: 37\n",
      "At Step: 17 :  checked box number: 114\n",
      "At Step: 18 :  checked box number: 97\n",
      "At Step: 19 :  checked box number: 17\n",
      "At Step: 20 :  checked box number: 16\n",
      "At Step: 21 :  checked box number: 59\n",
      "At Step: 22 :  checked box number: 83\n",
      "At Step: 23 :  checked box number: 41\n",
      "At Step: 24 :  checked box number: 82\n",
      "At Step: 25 :  checked box number: 84\n",
      "At Step: 26 :  checked box number: 53\n",
      "At Step: 27 :  checked box number: 31\n",
      "At Step: 28 :  checked box number: 109\n",
      "At Step: 29 :  checked box number: 18\n",
      "At Step: 30 :  checked box number: 12\n",
      "At Step: 31 :  checked box number: 7\n",
      "At Step: 32 :  checked box number: 10\n",
      "At Step: 33 :  checked box number: 52\n",
      "At Step: 34 :  checked box number: 80\n",
      "At Step: 35 :  checked box number: 5\n",
      "At Step: 36 :  checked box number: 73\n",
      "At Step: 37 :  checked box number: 21\n",
      "At Step: 38 :  checked box number: 11\n",
      "At Step: 39 :  checked box number: 6\n",
      "At Step: 40 :  checked box number: 106\n",
      "At Step: 41 :  checked box number: 74\n",
      "At Step: 42 :  checked box number: 22\n",
      "At Step: 43 :  checked box number: 54\n",
      "At Step: 44 :  checked box number: 79\n",
      "At Step: 45 :  checked box number: 57\n",
      "At Step: 46 :  checked box number: 56\n",
      "At Step: 47 :  checked box number: 62\n",
      "At Step: 48 :  checked box number: 35\n",
      "At Step: 49 :  checked box number: 65\n",
      "At Step: 50 :  checked box number: 75\n",
      "At Step: 51 :  checked box number: 50\n",
      "At Step: 52 :  checked box number: 36\n",
      "At Step: 53 :  checked box number: 111\n",
      "At Step: 54 :  checked box number: 8\n",
      "At Step: 55 :  checked box number: 100\n",
      "At Step: 56 :  checked box number: 67\n",
      "At Step: 57 :  checked box number: 61\n",
      "At Step: 58 :  checked box number: 113\n",
      "At Step: 59 :  checked box number: 96\n",
      "At Step: 60 :  checked box number: 24\n",
      "Number is not found\n"
     ]
    }
   ],
   "source": [
    "# N Number of Prisoners\n",
    "N = 120\n",
    "print('Total number of Prisoners', N)\n",
    "\n",
    "# Fill N boxes randomly with numbers 1 to N\n",
    "NBox = []\n",
    "NBox = fillBoxes(N, NBox)\n",
    "print('Arrangement of Boxes', NBox)\n",
    "chosenOne = randint(1, N)\n",
    "print('Prison No.', chosenOne,'is sent')\n",
    "print('At step: 1: checked box number:', chosenOne)\n",
    "findingNumber(chosenOne, NBox, chosenOne, 1, N)\n"
   ]
  },
  {
   "cell_type": "markdown",
   "metadata": {},
   "source": [
    "#_10 There are N pegs. Each peg can hold discs in decreasing order of radius when looked from bottom to top of the peg. There are M discs which have radius 1 to M. You are required to do the transformations in minimal number of moves. A move consists of picking the topmost disc of any one of the pegs and placing it on top of any other peg. At any point of time, the decreasing radius property of all the pegs must be maintained.\n",
    "Write a code to find the minimum number of moves for N pegs & M discs."
   ]
  },
  {
   "cell_type": "markdown",
   "metadata": {},
   "source": [
    "Steps of the Frame–Stewart Algorithm:<br>\n",
    "* Let n be the number of disks.<br>\n",
    "* Let r be the number of pegs.<br>\n",
    "* Define T(n,r) to be the minimum number of moves required to transfer n disks using r pegs.<br>\n",
    "The algorithm can be described recursively:<br>\n",
    "1. For some k, 1<= k < n, transfer the top k disks to a single peg other than the start or destination pegs, taking T(k,r) moves.<br>\n",
    "2. Without disturbing the peg that now contains the top k disks, transfer the remaining n-k disks to the destination peg, using only the remaining r-1 pegs, taking T(n-k,r-1) moves.<br>\n",
    "3. Finally, transfer the top k disks to the destination peg, taking T(k,r) moves.<br>\n",
    "The entire process takes 2T(k,r)+T(n-k,r-1) moves. The count k should be picked for which this quantity is least."
   ]
  },
  {
   "cell_type": "code",
   "execution_count": 26,
   "metadata": {},
   "outputs": [],
   "source": [
    "#Frame-Stewart Algorithm For Multi-pegs Tower of Hanoi \n",
    "def nHanoi(mdisks,npegs):\n",
    "    if mdisks ==0: #zero disks require zero moves\n",
    "        return 0\n",
    "    if  mdisks == 1 and npegs > 1: #if there is only 1 disk it will only take one move\n",
    "        return 1\n",
    "    if npegs == 3:#3 pegs is well defined optimal solution of 2^n-1\n",
    "        return 2**mdisks - 1\n",
    "    if npegs >= 3 and mdisks > 0:\n",
    "        potential_solutions = (2*nHanoi(kdisks,npegs) + nHanoi(mdisks-kdisks,npegs-1) for kdisks in range(1,mdisks))\n",
    "        return min(potential_solutions) #the best solution\n",
    "    #all other cases where there is no solution (namely one peg, or 2 pegs and more than 1 disk)\n",
    "    return float('inf')"
   ]
  },
  {
   "cell_type": "code",
   "execution_count": 28,
   "metadata": {},
   "outputs": [
    {
     "name": "stdout",
     "output_type": "stream",
     "text": [
      "Number of moves: 7\n",
      "Number of moves: 1\n"
     ]
    }
   ],
   "source": [
    "# N PEGS\n",
    "N = 3\n",
    "# M DISCS\n",
    "M = 3\n",
    "print ('Number of moves:',nHanoi(M, N))\n",
    "\n",
    "\n",
    "# N PEGS\n",
    "N = 3\n",
    "# M DISCS\n",
    "M = 1\n",
    "print ('Number of moves:',nHanoi(M, N))"
   ]
  },
  {
   "cell_type": "markdown",
   "metadata": {},
   "source": [
    "#_11 Given HH:MM. Calculate the angle between the hour and the minute hand."
   ]
  },
  {
   "cell_type": "code",
   "execution_count": 30,
   "metadata": {},
   "outputs": [
    {
     "name": "stdout",
     "output_type": "stream",
     "text": [
      "Angle : 75.0 degree\n"
     ]
    }
   ],
   "source": [
    "#Let's take 12:00 (h = 12, m = 0) as a reference and do below steps.<br>\n",
    "#1. Calculate the angle made by hour hand with respect to 12:00 in h hours and m minutes.<br>\n",
    "#2. Calculate the angle made by minute hand with respect to 12:00 in h hours and m minutes.<br>\n",
    "#3. The difference between the two angles is the angle between the two hands.<br>\n",
    "#The hour hand moves 360 degrees in 12 hours (or 0.5 degrees in 1 minute) and minute hand moves 360 degrees in 60 minute (or 6 degrees in one minute).<br>\n",
    "#In h hours and m minutes, the hour hand would move (60 (h % 12) + m )*0.5 and minute hand would move 6*m.<br>\n",
    "#So required angle = (60 (h % 12) + m )*0.5 - 6*m\n",
    "#                = 30 * (h % 12) + 0.5*m - 6*m\n",
    "#       = 30 * (h % 12) + 5.5*m\n",
    "\n",
    "\n",
    "def clock_angle(time):\n",
    "    hour, minutes = map(int, time.split(':'))\n",
    "    angle = abs(30 * (hour % 12) - 5.5 * minutes)\n",
    "    return min(angle, 360 - angle)\n",
    "\n",
    "# T TIME\n",
    "T='3:30'\n",
    "print('Angle :', clock_angle(T), 'degree')"
   ]
  },
  {
   "cell_type": "code",
   "execution_count": null,
   "metadata": {},
   "outputs": [],
   "source": []
  }
 ],
 "metadata": {
  "kernelspec": {
   "display_name": "Python 3",
   "language": "python",
   "name": "python3"
  },
  "language_info": {
   "codemirror_mode": {
    "name": "ipython",
    "version": 3
   },
   "file_extension": ".py",
   "mimetype": "text/x-python",
   "name": "python",
   "nbconvert_exporter": "python",
   "pygments_lexer": "ipython3",
   "version": "3.8.3"
  }
 },
 "nbformat": 4,
 "nbformat_minor": 4
}
